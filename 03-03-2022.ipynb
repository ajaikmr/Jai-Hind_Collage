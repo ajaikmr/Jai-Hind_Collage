{
 "cells": [
  {
   "cell_type": "markdown",
   "metadata": {},
   "source": [
    "# markdown\n",
    "## Markdown\n",
    "### Markdown\n",
    "#### Markdown\n",
    "- Short cut for to run cell is shift+Enter"
   ]
  },
  {
   "cell_type": "markdown",
   "metadata": {},
   "source": [
    "# Python Introduction:\n",
    "- It is Popular programming Language\n",
    "- uses:\n",
    "  - used for making web applications ex: flipkart,Amazon\n",
    "  - software development\n",
    "  - it is used for to handle large database\n",
    "- Python works on different platforms like windows mac linux \n",
    "- python has simple syntax similar to english language"
   ]
  },
  {
   "cell_type": "markdown",
   "metadata": {},
   "source": [
    "# Print Function:\n",
    "- It will print text or message"
   ]
  },
  {
   "cell_type": "code",
   "execution_count": 1,
   "metadata": {},
   "outputs": [
    {
     "name": "stdout",
     "output_type": "stream",
     "text": [
      "Hello world!\n"
     ]
    }
   ],
   "source": [
    "print(\"Hello world!\")"
   ]
  },
  {
   "cell_type": "code",
   "execution_count": 2,
   "metadata": {},
   "outputs": [
    {
     "name": "stdout",
     "output_type": "stream",
     "text": [
      "Hi Guys, How Are You\n"
     ]
    }
   ],
   "source": [
    "print(\"Hi Guys, How Are You\")"
   ]
  },
  {
   "cell_type": "markdown",
   "metadata": {},
   "source": [
    "# variables:\n",
    "- to store some values"
   ]
  },
  {
   "cell_type": "code",
   "execution_count": 3,
   "metadata": {},
   "outputs": [
    {
     "name": "stdout",
     "output_type": "stream",
     "text": [
      "10\n"
     ]
    }
   ],
   "source": [
    "a = 10 # Single value assigned to single variable\n",
    "print(a)"
   ]
  },
  {
   "cell_type": "code",
   "execution_count": 4,
   "metadata": {},
   "outputs": [
    {
     "name": "stdout",
     "output_type": "stream",
     "text": [
      "10 10 10\n"
     ]
    }
   ],
   "source": [
    "a = b = c = 10 # Multiples variables assinged to single value\n",
    "print(a,b,c)"
   ]
  },
  {
   "cell_type": "code",
   "execution_count": 5,
   "metadata": {},
   "outputs": [
    {
     "name": "stdout",
     "output_type": "stream",
     "text": [
      "10 20 30\n"
     ]
    }
   ],
   "source": [
    "a,b,c= 10,20,30 # Multiples variables assigned to multiple values\n",
    "print(a,b,c)"
   ]
  },
  {
   "cell_type": "markdown",
   "metadata": {},
   "source": [
    "# Input Function:\n",
    "- Reads input from user.\n"
   ]
  },
  {
   "cell_type": "code",
   "execution_count": 24,
   "metadata": {},
   "outputs": [
    {
     "name": "stdout",
     "output_type": "stream",
     "text": [
      "Enter a name :Ajay\n",
      "Ajay <class 'str'>\n"
     ]
    }
   ],
   "source": [
    "# input as text\n",
    "a = input(\"Enter a name :\")\n",
    "print(a,type(a))"
   ]
  },
  {
   "cell_type": "code",
   "execution_count": 25,
   "metadata": {},
   "outputs": [
    {
     "name": "stdout",
     "output_type": "stream",
     "text": [
      "enter a number5\n",
      "5 <class 'int'>\n"
     ]
    }
   ],
   "source": [
    "# input as number\n",
    "n = int(input(\"enter a number\"))\n",
    "print(n,type(n))"
   ]
  },
  {
   "cell_type": "markdown",
   "metadata": {},
   "source": [
    "# Data Types:\n",
    "- integer\n",
    "- String\n",
    "- Float\n"
   ]
  },
  {
   "cell_type": "code",
   "execution_count": 8,
   "metadata": {},
   "outputs": [
    {
     "name": "stdout",
     "output_type": "stream",
     "text": [
      "10\n",
      "<class 'int'>\n"
     ]
    }
   ],
   "source": [
    "# Integer\n",
    "x = 10\n",
    "print(x)\n",
    "print(type(x))"
   ]
  },
  {
   "cell_type": "code",
   "execution_count": 9,
   "metadata": {},
   "outputs": [
    {
     "name": "stdout",
     "output_type": "stream",
     "text": [
      "Python <class 'str'>\n"
     ]
    }
   ],
   "source": [
    "s = \"Python\"\n",
    "print(s,type(s))"
   ]
  },
  {
   "cell_type": "code",
   "execution_count": 10,
   "metadata": {},
   "outputs": [
    {
     "name": "stdout",
     "output_type": "stream",
     "text": [
      "12.4 <class 'float'>\n"
     ]
    }
   ],
   "source": [
    "f = 12.4\n",
    "print(f,type(f))"
   ]
  },
  {
   "cell_type": "markdown",
   "metadata": {},
   "source": [
    "# Data Convesions:\n",
    "- Convert one data type to another data type\n",
    "- integer --> int()\n",
    "- string --> str()\n",
    "- float - float()"
   ]
  },
  {
   "cell_type": "code",
   "execution_count": 13,
   "metadata": {},
   "outputs": [
    {
     "name": "stdout",
     "output_type": "stream",
     "text": [
      "5 <class 'int'>\n",
      "5 <class 'str'>\n",
      "5.0 <class 'float'>\n"
     ]
    }
   ],
   "source": [
    "i = 5\n",
    "print(i,type(i))\n",
    "s = str(i)\n",
    "print(s,type(s))\n",
    "f = float(i)\n",
    "print(f,type(f))"
   ]
  },
  {
   "cell_type": "code",
   "execution_count": 16,
   "metadata": {},
   "outputs": [
    {
     "name": "stdout",
     "output_type": "stream",
     "text": [
      "12.4 <class 'float'>\n",
      "12 <class 'int'>\n",
      "12.4 <class 'str'>\n"
     ]
    }
   ],
   "source": [
    "f = 12.4\n",
    "print(f,type(f))\n",
    "i = int(f)\n",
    "print(i,type(i))\n",
    "s = str(f)\n",
    "print(s,type(s))"
   ]
  },
  {
   "cell_type": "code",
   "execution_count": 21,
   "metadata": {},
   "outputs": [
    {
     "name": "stdout",
     "output_type": "stream",
     "text": [
      "12335 <class 'str'>\n",
      "12335 <class 'int'>\n",
      "12335.0 <class 'float'>\n"
     ]
    }
   ],
   "source": [
    "s = \"12335\"\n",
    "print(s,type(s))\n",
    "i = int(s)\n",
    "print(i,type(i))\n",
    "f = float(s)\n",
    "print(f,type(f))"
   ]
  },
  {
   "cell_type": "code",
   "execution_count": null,
   "metadata": {},
   "outputs": [],
   "source": []
  }
 ],
 "metadata": {
  "kernelspec": {
   "display_name": "Python 3",
   "language": "python",
   "name": "python3"
  },
  "language_info": {
   "codemirror_mode": {
    "name": "ipython",
    "version": 3
   },
   "file_extension": ".py",
   "mimetype": "text/x-python",
   "name": "python",
   "nbconvert_exporter": "python",
   "pygments_lexer": "ipython3",
   "version": "3.8.5"
  }
 },
 "nbformat": 4,
 "nbformat_minor": 4
}
