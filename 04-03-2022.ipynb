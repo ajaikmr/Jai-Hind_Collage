{
 "cells": [
  {
   "cell_type": "markdown",
   "metadata": {},
   "source": [
    "# Python Operators:\n",
    "## Logical operators:\n",
    " - used to combine conditions\n",
    "  - Operator:\n",
    "    - **and** --> both conditions have to be true --o/p True\n",
    "    - **or** --> if any one conditin is true -->True\n",
    "    - **not**"
   ]
  },
  {
   "cell_type": "code",
   "execution_count": 5,
   "metadata": {},
   "outputs": [
    {
     "name": "stdout",
     "output_type": "stream",
     "text": [
      "True\n",
      "True\n",
      "False\n"
     ]
    }
   ],
   "source": [
    "x = 4\n",
    "print(x>3 and x<7)\n",
    "print(x<3 or x<7)\n",
    "print(not(x>3 and x<7))\n"
   ]
  },
  {
   "cell_type": "markdown",
   "metadata": {},
   "source": [
    "# Identity Operator:\n",
    "- used to compare objects.\n",
    " - operators:\n",
    "  - is\n",
    "  - is not"
   ]
  },
  {
   "cell_type": "code",
   "execution_count": 8,
   "metadata": {},
   "outputs": [
    {
     "name": "stdout",
     "output_type": "stream",
     "text": [
      "False\n",
      "True\n",
      "True\n"
     ]
    }
   ],
   "source": [
    "a = 4\n",
    "b = 6\n",
    "c = 4\n",
    "print(a is b)\n",
    "print(a is c)\n",
    "print(a is not b)"
   ]
  },
  {
   "cell_type": "markdown",
   "metadata": {},
   "source": [
    "# Membership Operator:\n",
    "- used to test given sequence \n",
    "- operators:\n",
    "  - **in**\n",
    "  - **not in**"
   ]
  },
  {
   "cell_type": "code",
   "execution_count": 12,
   "metadata": {},
   "outputs": [
    {
     "name": "stdout",
     "output_type": "stream",
     "text": [
      "True\n",
      "True\n",
      "False\n",
      "True\n"
     ]
    }
   ],
   "source": [
    "a = \"Python\"\n",
    "print('y' in a)\n",
    "print('on' in a)\n",
    "print('no' in a)\n",
    "print(\"ab\" not in a)"
   ]
  },
  {
   "cell_type": "markdown",
   "metadata": {},
   "source": [
    "# Control Flow Statements:\n",
    "- A program's control flow in the order in which the program code excutes\n",
    "- Python has 3 types control structures\n",
    "  - Sequential\n",
    "  - Selection\n",
    "  - Repetition\n",
    "- Conditional Statement\n",
    "  - if-else Statement\n",
    "- Looping statement\n",
    "  - while loop statement\n",
    "  - for loop statement"
   ]
  },
  {
   "cell_type": "markdown",
   "metadata": {},
   "source": [
    "# If -else Statement:\n",
    "## Syntax:\n"
   ]
  },
  {
   "cell_type": "code",
   "execution_count": null,
   "metadata": {},
   "outputs": [],
   "source": [
    "if Boolean_statement:\n",
    "    STatement\n",
    "elif:\n",
    "    statement"
   ]
  },
  {
   "cell_type": "code",
   "execution_count": 20,
   "metadata": {},
   "outputs": [
    {
     "name": "stdout",
     "output_type": "stream",
     "text": [
      "Enter a number :5\n",
      "Not\n"
     ]
    }
   ],
   "source": [
    "# Check Given Number is Multiple of 2 \n",
    "n = int(input(\"Enter a number :\"))\n",
    "if n%2==0:\n",
    "    print(\"Multple of 2\")\n",
    "else:\n",
    "    print(\"Not\")"
   ]
  },
  {
   "cell_type": "code",
   "execution_count": 15,
   "metadata": {},
   "outputs": [
    {
     "name": "stdout",
     "output_type": "stream",
     "text": [
      "Enter a number :15\n",
      "Multiples of both 3 and 5\n"
     ]
    }
   ],
   "source": [
    "# Check Given number is multiples of both 3 and 5\n",
    "n = int(input(\"Enter a number :\"))\n",
    "if n %3==0 and n%5==0:\n",
    "    print(\"Multiples of both 3 and 5\")\n",
    "else:\n",
    "    print(\"Not\")"
   ]
  },
  {
   "cell_type": "code",
   "execution_count": 18,
   "metadata": {},
   "outputs": [
    {
     "name": "stdout",
     "output_type": "stream",
     "text": [
      "0\n",
      "Zero\n"
     ]
    }
   ],
   "source": [
    "# Check given is positive number negative number or zero\n",
    "n = int(input())\n",
    "if n>0:\n",
    "    print(\"Positive Number\")\n",
    "elif n<0:\n",
    "    print(\"Negative Number\")\n",
    "else:\n",
    "    print(\"Zero\")"
   ]
  },
  {
   "cell_type": "code",
   "execution_count": 22,
   "metadata": {},
   "outputs": [
    {
     "name": "stdout",
     "output_type": "stream",
     "text": [
      "4\n",
      "7\n",
      "9\n",
      "9 is large number\n"
     ]
    }
   ],
   "source": [
    "# Find large number from given 3 inputs\n",
    "a = int(input())\n",
    "b = int(input())\n",
    "c = int(input())\n",
    "if a>b and a>c:\n",
    "    print(a,\"is large number\")\n",
    "elif b>a and b>c:\n",
    "    print(b,'is large number')\n",
    "else:\n",
    "    print(c,\"is large number\")"
   ]
  },
  {
   "cell_type": "markdown",
   "metadata": {},
   "source": [
    "# Looping Statement:\n",
    "- While loop Statement:\n",
    "  - It allows a programmer to repeat a single statement or a gruop of statement for True Condition\n"
   ]
  },
  {
   "cell_type": "markdown",
   "metadata": {},
   "source": [
    "# While Loop Statement:\n"
   ]
  },
  {
   "cell_type": "code",
   "execution_count": null,
   "metadata": {},
   "outputs": [],
   "source": [
    "# Syntax:\n",
    "while Boolean_Condition:\n",
    "    Statement\n",
    "    Increment/Decrement"
   ]
  },
  {
   "cell_type": "code",
   "execution_count": 23,
   "metadata": {},
   "outputs": [
    {
     "name": "stdout",
     "output_type": "stream",
     "text": [
      "Python\n",
      "Python\n",
      "Python\n",
      "Python\n",
      "Python\n"
     ]
    }
   ],
   "source": [
    "# Print \"Python\" 5 times\n",
    "print(\"Python\")\n",
    "print(\"Python\")\n",
    "print(\"Python\")\n",
    "print(\"Python\")\n",
    "print(\"Python\")"
   ]
  },
  {
   "cell_type": "code",
   "execution_count": 24,
   "metadata": {},
   "outputs": [
    {
     "name": "stdout",
     "output_type": "stream",
     "text": [
      "Python\n",
      "Python\n",
      "Python\n",
      "Python\n",
      "Python\n"
     ]
    }
   ],
   "source": [
    "i = 0\n",
    "while i<5:\n",
    "    print(\"Python\")\n",
    "    i +=1\n",
    "    "
   ]
  },
  {
   "cell_type": "code",
   "execution_count": 26,
   "metadata": {},
   "outputs": [
    {
     "name": "stdout",
     "output_type": "stream",
     "text": [
      "1 2 3 4 5 6 7 8 9 10 "
     ]
    }
   ],
   "source": [
    "# 1 2 3 4 5 6 7 8 9 10\n",
    "i =1\n",
    "while i<=10:\n",
    "    print(i,end=\" \")\n",
    "    i +=1"
   ]
  },
  {
   "cell_type": "code",
   "execution_count": 27,
   "metadata": {},
   "outputs": [
    {
     "name": "stdout",
     "output_type": "stream",
     "text": [
      "2 4 6 8 10 "
     ]
    }
   ],
   "source": [
    "i = 1\n",
    "while i<=10:\n",
    "    if i %2==0:\n",
    "        print(i,end=\" \")\n",
    "    i +=1\n",
    "    "
   ]
  },
  {
   "cell_type": "code",
   "execution_count": 28,
   "metadata": {},
   "outputs": [
    {
     "name": "stdout",
     "output_type": "stream",
     "text": [
      "123\n",
      "321"
     ]
    }
   ],
   "source": [
    "# input: 123\n",
    "# output: 321\n",
    "n = int(input())\n",
    "while n !=0:\n",
    "    print(n%10,end=\"\")\n",
    "    n = n//10"
   ]
  },
  {
   "cell_type": "markdown",
   "metadata": {},
   "source": [
    "# For Loop Statement:\n",
    "- For loop statement\n",
    "  - It allows a programmer to execute a ssequence of stataments several times "
   ]
  },
  {
   "cell_type": "code",
   "execution_count": null,
   "metadata": {},
   "outputs": [],
   "source": [
    "# Syntax:\n",
    "for <local var> in < objectname>:\n",
    "    statement"
   ]
  },
  {
   "cell_type": "code",
   "execution_count": 32,
   "metadata": {},
   "outputs": [
    {
     "name": "stdout",
     "output_type": "stream",
     "text": [
      "0 1 2 3 4 "
     ]
    }
   ],
   "source": [
    "# 0 1 2 3 4\n",
    "for i in range(5):\n",
    "    print(i,end=\" \")"
   ]
  },
  {
   "cell_type": "code",
   "execution_count": 33,
   "metadata": {},
   "outputs": [
    {
     "name": "stdout",
     "output_type": "stream",
     "text": [
      "1 2 3 4 5 6 7 8 9 10 "
     ]
    }
   ],
   "source": [
    "# 1 2 3 4 5 6 7 8 9 10\n",
    "for i in range(1,11):\n",
    "    print(i,end=\" \")\n"
   ]
  },
  {
   "cell_type": "code",
   "execution_count": 36,
   "metadata": {},
   "outputs": [
    {
     "name": "stdout",
     "output_type": "stream",
     "text": [
      "1 5 9 "
     ]
    }
   ],
   "source": [
    "for i in range(1,11,4):\n",
    "    print(i,end=\" \")"
   ]
  },
  {
   "cell_type": "code",
   "execution_count": 37,
   "metadata": {},
   "outputs": [
    {
     "name": "stdout",
     "output_type": "stream",
     "text": [
      "10 9 8 7 6 5 4 3 2 1 "
     ]
    }
   ],
   "source": [
    "# 10 9 8 7 6 5  4 3 2 1\n",
    "for i in range(10,0,-1):\n",
    "    print(i,end=\" \")"
   ]
  },
  {
   "cell_type": "code",
   "execution_count": 40,
   "metadata": {},
   "outputs": [
    {
     "name": "stdout",
     "output_type": "stream",
     "text": [
      "0 15 30 45 60 75 90 "
     ]
    }
   ],
   "source": [
    "# 0 to 100 want to print multiples of both 3 and 5\n",
    "for i in range(0,101):\n",
    "    if i%3 ==0 and i %5==0:\n",
    "        print(i,end=\" \")"
   ]
  },
  {
   "cell_type": "code",
   "execution_count": null,
   "metadata": {},
   "outputs": [],
   "source": []
  }
 ],
 "metadata": {
  "kernelspec": {
   "display_name": "Python 3",
   "language": "python",
   "name": "python3"
  },
  "language_info": {
   "codemirror_mode": {
    "name": "ipython",
    "version": 3
   },
   "file_extension": ".py",
   "mimetype": "text/x-python",
   "name": "python",
   "nbconvert_exporter": "python",
   "pygments_lexer": "ipython3",
   "version": "3.8.5"
  }
 },
 "nbformat": 4,
 "nbformat_minor": 4
}
