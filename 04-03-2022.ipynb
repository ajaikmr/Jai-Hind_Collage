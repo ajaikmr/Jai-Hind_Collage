{
 "cells": [
  {
   "cell_type": "markdown",
   "metadata": {},
   "source": [
    "# Python Operators:\n",
    "## Logical operators:\n",
    " - used to combine conditions\n",
    "  - Operator:\n",
    "    - **and** --> both conditions have to be true --o/p True\n",
    "    - **or** --> if any one conditin is true -->True\n",
    "    - **not**"
   ]
  },
  {
   "cell_type": "code",
   "execution_count": 5,
   "metadata": {},
   "outputs": [
    {
     "name": "stdout",
     "output_type": "stream",
     "text": [
      "True\n",
      "True\n",
      "False\n"
     ]
    }
   ],
   "source": [
    "x = 4\n",
    "print(x>3 and x<7)\n",
    "print(x<3 or x<7)\n",
    "print(not(x>3 and x<7))\n"
   ]
  },
  {
   "cell_type": "markdown",
   "metadata": {},
   "source": [
    "# Identity Operator:\n",
    "- used to compare objects.\n",
    " - operators:\n",
    "  - is\n",
    "  - is not"
   ]
  },
  {
   "cell_type": "code",
   "execution_count": 8,
   "metadata": {},
   "outputs": [
    {
     "name": "stdout",
     "output_type": "stream",
     "text": [
      "False\n",
      "True\n",
      "True\n"
     ]
    }
   ],
   "source": [
    "a = 4\n",
    "b = 6\n",
    "c = 4\n",
    "print(a is b)\n",
    "print(a is c)\n",
    "print(a is not b)"
   ]
  },
  {
   "cell_type": "markdown",
   "metadata": {},
   "source": [
    "# Membership Operator:\n",
    "- used to test given sequence \n",
    "- operators:\n",
    "  - **in**\n",
    "  - **not in**"
   ]
  },
  {
   "cell_type": "code",
   "execution_count": 12,
   "metadata": {},
   "outputs": [
    {
     "name": "stdout",
     "output_type": "stream",
     "text": [
      "True\n",
      "True\n",
      "False\n",
      "True\n"
     ]
    }
   ],
   "source": [
    "a = \"Python\"\n",
    "print('y' in a)\n",
    "print('on' in a)\n",
    "print('no' in a)\n",
    "print(\"ab\" not in a)"
   ]
  },
  {
   "cell_type": "code",
   "execution_count": null,
   "metadata": {},
   "outputs": [],
   "source": []
  }
 ],
 "metadata": {
  "kernelspec": {
   "display_name": "Python 3",
   "language": "python",
   "name": "python3"
  },
  "language_info": {
   "codemirror_mode": {
    "name": "ipython",
    "version": 3
   },
   "file_extension": ".py",
   "mimetype": "text/x-python",
   "name": "python",
   "nbconvert_exporter": "python",
   "pygments_lexer": "ipython3",
   "version": "3.8.5"
  }
 },
 "nbformat": 4,
 "nbformat_minor": 4
}
